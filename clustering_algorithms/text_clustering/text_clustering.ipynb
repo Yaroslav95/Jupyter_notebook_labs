{
 "cells": [
  {
   "cell_type": "code",
   "execution_count": 1,
   "metadata": {},
   "outputs": [],
   "source": [
    "from sklearn.datasets import fetch_20newsgroups\n",
    "from sklearn.decomposition import TruncatedSVD\n",
    "from sklearn.feature_extraction.text import TfidfVectorizer\n",
    "from sklearn.feature_extraction.text import HashingVectorizer\n",
    "from sklearn.feature_extraction.text import TfidfTransformer\n",
    "from sklearn.pipeline import make_pipeline\n",
    "from sklearn.preprocessing import Normalizer\n",
    "from sklearn import metrics\n",
    "\n",
    "from sklearn.cluster import KMeans, MiniBatchKMeans\n",
    "\n",
    "import logging\n",
    "from optparse import OptionParser\n",
    "import sys\n",
    "from time import time\n",
    "\n",
    "import numpy as np"
   ]
  },
  {
   "cell_type": "markdown",
   "metadata": {},
   "source": [
    "### Выбираем категории новостей для последующей кластеризации"
   ]
  },
  {
   "cell_type": "code",
   "execution_count": 2,
   "metadata": {},
   "outputs": [],
   "source": [
    "categories = [\n",
    "    'alt.atheism',\n",
    "    'talk.religion.misc',\n",
    "    'comp.graphics',\n",
    "    'sci.space',\n",
    "]"
   ]
  },
  {
   "cell_type": "markdown",
   "metadata": {},
   "source": [
    "### Загружаем данные по выбранным категориям"
   ]
  },
  {
   "cell_type": "code",
   "execution_count": 3,
   "metadata": {},
   "outputs": [],
   "source": [
    "dataset = fetch_20newsgroups(subset='all', categories=categories,\n",
    "                             shuffle=True, random_state=42)"
   ]
  },
  {
   "cell_type": "code",
   "execution_count": 16,
   "metadata": {},
   "outputs": [
    {
     "data": {
      "text/plain": [
       "'From: agr00@ccc.amdahl.com (Anthony G Rose)\\nSubject: Re: Who\\'s next?  Mormons and Jews?\\nReply-To: agr00@JUTS.ccc.amdahl.com (Anthony G Rose)\\nOrganization: Amdahl Corporation, Sunnyvale CA\\nLines: 18\\n\\nIn article <1993Apr20.142356.456@ra.royalroads.ca> mlee@post.RoyalRoads.ca (Malcolm Lee) writes:\\n>\\n>In article <C5rLps.Fr5@world.std.com>, jhallen@world.std.com (Joseph H Allen) writes:\\n>|> In article <1qvk8sINN9vo@clem.handheld.com> jmd@cube.handheld.com (Jim De Arras) writes:\\n>|> \\n>|> It was interesting to watch the 700 club today.  Pat Robertson said that the\\n>|> \"Branch Dividians had met the firey end for worshipping their false god.\" He\\n>|> also said that this was a terrible tragedy and that the FBI really blew it.\\n>\\n>I don\\'t necessarily agree with Pat Robertson.  Every one will be placed before\\n>the judgement seat eventually and judged on what we have done or failed to do\\n>on this earth.  God allows people to choose who and what they want to worship.\\n\\nI\\'m sorry, but He does not!  Ever read the FIRST commandment?\\n\\n>Worship of money is one of the greatest religions in this country.\\n\\nYou mean, false religion!\\n'"
      ]
     },
     "execution_count": 16,
     "metadata": {},
     "output_type": "execute_result"
    }
   ],
   "source": [
    "dataset.data[1] # по груупам новостей"
   ]
  },
  {
   "cell_type": "code",
   "execution_count": 5,
   "metadata": {},
   "outputs": [],
   "source": [
    "labels = dataset.target\n",
    "true_k = np.unique(labels).shape[0]"
   ]
  },
  {
   "cell_type": "code",
   "execution_count": 19,
   "metadata": {},
   "outputs": [
    {
     "data": {
      "text/plain": [
       "array([0, 1, 1, ..., 2, 1, 1], dtype=int64)"
      ]
     },
     "execution_count": 19,
     "metadata": {},
     "output_type": "execute_result"
    }
   ],
   "source": [
    "labels"
   ]
  },
  {
   "cell_type": "code",
   "execution_count": 20,
   "metadata": {},
   "outputs": [
    {
     "data": {
      "text/plain": [
       "4"
      ]
     },
     "execution_count": 20,
     "metadata": {},
     "output_type": "execute_result"
    }
   ],
   "source": [
    "true_k"
   ]
  },
  {
   "cell_type": "markdown",
   "metadata": {},
   "source": [
    "### Создаём tf-idf векторизатор и преобразуем набор данных"
   ]
  },
  {
   "cell_type": "code",
   "execution_count": null,
   "metadata": {},
   "outputs": [],
   "source": []
  },
  {
   "cell_type": "code",
   "execution_count": 6,
   "metadata": {},
   "outputs": [],
   "source": [
    "vectorizer = TfidfVectorizer(max_df=0.5, max_features=10000,\n",
    "                             min_df=2, stop_words='english',\n",
    "                             use_idf=True)"
   ]
  },
  {
   "cell_type": "code",
   "execution_count": 7,
   "metadata": {},
   "outputs": [
    {
     "name": "stdout",
     "output_type": "stream",
     "text": [
      "TfidfVectorizer(analyzer='word', binary=False, decode_error='strict',\n",
      "        dtype=<class 'numpy.int64'>, encoding='utf-8', input='content',\n",
      "        lowercase=True, max_df=0.5, max_features=10000, min_df=2,\n",
      "        ngram_range=(1, 1), norm='l2', preprocessor=None, smooth_idf=True,\n",
      "        stop_words='english', strip_accents=None, sublinear_tf=False,\n",
      "        token_pattern='(?u)\\\\b\\\\w\\\\w+\\\\b', tokenizer=None, use_idf=True,\n",
      "        vocabulary=None)\n"
     ]
    }
   ],
   "source": [
    "print(vectorizer)"
   ]
  },
  {
   "cell_type": "code",
   "execution_count": 8,
   "metadata": {},
   "outputs": [],
   "source": [
    "X = vectorizer.fit_transform(dataset.data)"
   ]
  },
  {
   "cell_type": "code",
   "execution_count": 9,
   "metadata": {},
   "outputs": [
    {
     "name": "stdout",
     "output_type": "stream",
     "text": [
      "  (0, 4280)\t0.22992141448640455\n",
      "  (0, 7902)\t0.1889256019903947\n",
      "  (0, 9919)\t0.21328232097817776\n",
      "  (0, 8794)\t0.30132329024982274\n",
      "  (0, 4283)\t0.15150641591152192\n",
      "  (0, 5020)\t0.13393559776294517\n",
      "  (0, 1450)\t0.2820108789924157\n",
      "  (0, 292)\t0.12435662889321993\n",
      "  (0, 9667)\t0.16910493634764495\n",
      "  (0, 2042)\t0.05383593316292927\n",
      "  (0, 1004)\t0.045051336007442246\n",
      "  (0, 152)\t0.07759116315242108\n",
      "  (0, 9272)\t0.22241586118986265\n",
      "  (0, 4871)\t0.22241586118986265\n",
      "  (0, 7723)\t0.22129150325593108\n",
      "  (0, 8310)\t0.14984287145300662\n",
      "  (0, 6020)\t0.21064980213680898\n",
      "  (0, 2582)\t0.055320543195910114\n",
      "  (0, 9740)\t0.08374591684764861\n",
      "  (0, 68)\t0.04808827112166061\n",
      "  (0, 939)\t0.04956170975219452\n",
      "  (0, 149)\t0.047357670652908794\n",
      "  (0, 198)\t0.04962177316072546\n",
      "  (0, 274)\t0.0597785123773888\n",
      "  (0, 369)\t0.1398730113697326\n",
      "  :\t:\n",
      "  (3386, 9292)\t0.30552157148654474\n",
      "  (3386, 3544)\t0.08013051548044868\n",
      "  (3386, 1728)\t0.2125936993383011\n",
      "  (3386, 1855)\t0.1093152679252292\n",
      "  (3386, 4350)\t0.10274431566590712\n",
      "  (3386, 5957)\t0.08620868011292972\n",
      "  (3386, 111)\t0.0713882296681332\n",
      "  (3386, 4209)\t0.11733941710047241\n",
      "  (3386, 444)\t0.09649210465198596\n",
      "  (3386, 8089)\t0.18059677899368234\n",
      "  (3386, 8194)\t0.1113874382279186\n",
      "  (3386, 2732)\t0.10521220923259952\n",
      "  (3386, 7634)\t0.09153909545394397\n",
      "  (3386, 82)\t0.12060045471807096\n",
      "  (3386, 3459)\t0.09716989247189935\n",
      "  (3386, 2112)\t0.18359455374562036\n",
      "  (3386, 1881)\t0.10015265263750982\n",
      "  (3386, 3428)\t0.10804972963102498\n",
      "  (3386, 1688)\t0.11213169211074217\n",
      "  (3386, 6398)\t0.12454062793366934\n",
      "  (3386, 5246)\t0.2590385262403146\n",
      "  (3386, 7228)\t0.09371015103282802\n",
      "  (3386, 1609)\t0.2367307978767005\n",
      "  (3386, 9142)\t0.131518588644101\n",
      "  (3386, 1718)\t0.12771065318706518\n"
     ]
    }
   ],
   "source": [
    "print(X)"
   ]
  },
  {
   "cell_type": "markdown",
   "metadata": {},
   "source": [
    "### Устанавливаем параметры для кластеризации и запускаем обучение модели"
   ]
  },
  {
   "cell_type": "code",
   "execution_count": 10,
   "metadata": {},
   "outputs": [],
   "source": [
    "km = MiniBatchKMeans(n_clusters=true_k, init='k-means++', n_init=1,\n",
    "                     init_size=1000, batch_size=1000, verbose=True)"
   ]
  },
  {
   "cell_type": "code",
   "execution_count": 11,
   "metadata": {},
   "outputs": [
    {
     "name": "stdout",
     "output_type": "stream",
     "text": [
      "Init 1/1 with method: k-means++\n",
      "Inertia for init 1/1: 965.696104\n",
      "Minibatch iteration 1/400: mean batch inertia: 0.975016, ewa inertia: 0.975016 \n",
      "Minibatch iteration 2/400: mean batch inertia: 0.971561, ewa inertia: 0.972976 \n",
      "Minibatch iteration 3/400: mean batch inertia: 0.969555, ewa inertia: 0.970957 \n",
      "Minibatch iteration 4/400: mean batch inertia: 0.968936, ewa inertia: 0.969764 \n",
      "Minibatch iteration 5/400: mean batch inertia: 0.967327, ewa inertia: 0.968325 \n",
      "Minibatch iteration 6/400: mean batch inertia: 0.967836, ewa inertia: 0.968037 \n",
      "Minibatch iteration 7/400: mean batch inertia: 0.966869, ewa inertia: 0.967347 \n",
      "Minibatch iteration 8/400: mean batch inertia: 0.966152, ewa inertia: 0.966642 \n",
      "Minibatch iteration 9/400: mean batch inertia: 0.965983, ewa inertia: 0.966253 \n",
      "Minibatch iteration 10/400: mean batch inertia: 0.965226, ewa inertia: 0.965647 \n",
      "Minibatch iteration 11/400: mean batch inertia: 0.968196, ewa inertia: 0.967151 \n",
      "Minibatch iteration 12/400: mean batch inertia: 0.966255, ewa inertia: 0.966622 \n",
      "Minibatch iteration 13/400: mean batch inertia: 0.966563, ewa inertia: 0.966588 \n",
      "Minibatch iteration 14/400: mean batch inertia: 0.966015, ewa inertia: 0.966249 \n",
      "Minibatch iteration 15/400: mean batch inertia: 0.966956, ewa inertia: 0.966666 \n",
      "Minibatch iteration 16/400: mean batch inertia: 0.966820, ewa inertia: 0.966757 \n",
      "Minibatch iteration 17/400: mean batch inertia: 0.965490, ewa inertia: 0.966009 \n",
      "Minibatch iteration 18/400: mean batch inertia: 0.965893, ewa inertia: 0.965940 \n",
      "Minibatch iteration 19/400: mean batch inertia: 0.965681, ewa inertia: 0.965787 \n",
      "Minibatch iteration 20/400: mean batch inertia: 0.967140, ewa inertia: 0.966586 \n",
      "Converged (lack of improvement in inertia) at iteration 20/400\n",
      "Computing label assignment and total inertia\n"
     ]
    },
    {
     "data": {
      "text/plain": [
       "MiniBatchKMeans(batch_size=1000, compute_labels=True, init='k-means++',\n",
       "        init_size=1000, max_iter=100, max_no_improvement=10, n_clusters=4,\n",
       "        n_init=1, random_state=None, reassignment_ratio=0.01, tol=0.0,\n",
       "        verbose=True)"
      ]
     },
     "execution_count": 11,
     "metadata": {},
     "output_type": "execute_result"
    }
   ],
   "source": [
    "km.fit(X)"
   ]
  },
  {
   "cell_type": "markdown",
   "metadata": {},
   "source": [
    "### Получаем центры кластеров"
   ]
  },
  {
   "cell_type": "code",
   "execution_count": 12,
   "metadata": {},
   "outputs": [],
   "source": [
    "order_centroids = km.cluster_centers_.argsort()[:, ::-1]"
   ]
  },
  {
   "cell_type": "markdown",
   "metadata": {},
   "source": [
    "### Выводим признаки, характеризующие центры кластеров"
   ]
  },
  {
   "cell_type": "code",
   "execution_count": 13,
   "metadata": {},
   "outputs": [
    {
     "name": "stdout",
     "output_type": "stream",
     "text": [
      "Cluster 0:\n",
      " keith\n",
      " sgi\n",
      " livesey\n",
      " caltech\n",
      " wpd\n",
      " solntze\n",
      " cwru\n",
      " jon\n",
      " com\n",
      " cc\n",
      "Cluster 1:\n",
      " graphics\n",
      " com\n",
      " university\n",
      " posting\n",
      " host\n",
      " nntp\n",
      " image\n",
      " thanks\n",
      " cs\n",
      " computer\n",
      "Cluster 2:\n",
      " god\n",
      " com\n",
      " sandvik\n",
      " people\n",
      " jesus\n",
      " don\n",
      " say\n",
      " christian\n",
      " kent\n",
      " bible\n",
      "Cluster 3:\n",
      " space\n",
      " henry\n",
      " access\n",
      " toronto\n",
      " digex\n",
      " nasa\n",
      " pat\n",
      " alaska\n",
      " shuttle\n",
      " zoo\n"
     ]
    }
   ],
   "source": [
    "terms = vectorizer.get_feature_names()\n",
    "for i in range(true_k):\n",
    "    print(\"Cluster %d:\" % i)\n",
    "    for ind in order_centroids[i, :10]:\n",
    "        print(' %s' % terms[ind])"
   ]
  },
  {
   "cell_type": "code",
   "execution_count": null,
   "metadata": {},
   "outputs": [],
   "source": []
  }
 ],
 "metadata": {
  "kernelspec": {
   "display_name": "Python 3",
   "language": "python",
   "name": "python3"
  },
  "language_info": {
   "codemirror_mode": {
    "name": "ipython",
    "version": 3
   },
   "file_extension": ".py",
   "mimetype": "text/x-python",
   "name": "python",
   "nbconvert_exporter": "python",
   "pygments_lexer": "ipython3",
   "version": "3.6.5"
  },
  "toc": {
   "base_numbering": 1,
   "nav_menu": {},
   "number_sections": true,
   "sideBar": true,
   "skip_h1_title": false,
   "title_cell": "Table of Contents",
   "title_sidebar": "Contents",
   "toc_cell": false,
   "toc_position": {},
   "toc_section_display": true,
   "toc_window_display": false
  }
 },
 "nbformat": 4,
 "nbformat_minor": 2
}
