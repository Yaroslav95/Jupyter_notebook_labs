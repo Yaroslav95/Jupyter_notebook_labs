{
 "cells": [
  {
   "cell_type": "markdown",
   "metadata": {
    "toc": "true"
   },
   "source": [
    "<h1>Table of Contents<span class=\"tocSkip\"></span></h1>\n",
    "<div class=\"toc\"><ul class=\"toc-item\"><li><span><a href=\"#Загружаем-dataset\" data-toc-modified-id=\"Загружаем-dataset-1\"><span class=\"toc-item-num\">1&nbsp;&nbsp;</span>Загружаем dataset</a></span></li><li><span><a href=\"#Подготавливаем-признаки\" data-toc-modified-id=\"Подготавливаем-признаки-2\"><span class=\"toc-item-num\">2&nbsp;&nbsp;</span>Подготавливаем признаки</a></span></li><li><span><a href=\"#Выполняем-преобразование-признаков\" data-toc-modified-id=\"Выполняем-преобразование-признаков-3\"><span class=\"toc-item-num\">3&nbsp;&nbsp;</span>Выполняем преобразование признаков</a></span></li><li><span><a href=\"#Разделяем-выборку-на-train-и-test\" data-toc-modified-id=\"Разделяем-выборку-на-train-и-test-4\"><span class=\"toc-item-num\">4&nbsp;&nbsp;</span>Разделяем выборку на train и test</a></span></li><li><span><a href=\"#Выбираем-модель\" data-toc-modified-id=\"Выбираем-модель-5\"><span class=\"toc-item-num\">5&nbsp;&nbsp;</span>Выбираем модель</a></span></li><li><span><a href=\"#Обучаем-модель\" data-toc-modified-id=\"Обучаем-модель-6\"><span class=\"toc-item-num\">6&nbsp;&nbsp;</span>Обучаем модель</a></span></li><li><span><a href=\"#Оцениваем-качество-предсказания-на-test'e\" data-toc-modified-id=\"Оцениваем-качество-предсказания-на-test'e-7\"><span class=\"toc-item-num\">7&nbsp;&nbsp;</span>Оцениваем качество предсказания на test'e</a></span></li><li><span><a href=\"#Визуализируем-ROC\" data-toc-modified-id=\"Визуализируем-ROC-8\"><span class=\"toc-item-num\">8&nbsp;&nbsp;</span>Визуализируем ROC</a></span></li></ul></div>"
   ]
  },
  {
   "cell_type": "code",
   "execution_count": 1,
   "metadata": {},
   "outputs": [],
   "source": [
    "import pandas as pd\n",
    "import numpy as np"
   ]
  },
  {
   "cell_type": "markdown",
   "metadata": {},
   "source": [
    "### Загружаем dataset"
   ]
  },
  {
   "cell_type": "code",
   "execution_count": 2,
   "metadata": {},
   "outputs": [],
   "source": [
    "train_sample = pd.read_csv('./bank_scoring_train.csv.gz', sep='\\t', compression='gzip')"
   ]
  },
  {
   "cell_type": "code",
   "execution_count": 3,
   "metadata": {},
   "outputs": [
    {
     "data": {
      "text/html": [
       "<div>\n",
       "<style scoped>\n",
       "    .dataframe tbody tr th:only-of-type {\n",
       "        vertical-align: middle;\n",
       "    }\n",
       "\n",
       "    .dataframe tbody tr th {\n",
       "        vertical-align: top;\n",
       "    }\n",
       "\n",
       "    .dataframe thead th {\n",
       "        text-align: right;\n",
       "    }\n",
       "</style>\n",
       "<table border=\"1\" class=\"dataframe\">\n",
       "  <thead>\n",
       "    <tr style=\"text-align: right;\">\n",
       "      <th></th>\n",
       "      <th>SeriousDlqin2yrs</th>\n",
       "      <th>RevolvingUtilizationOfUnsecuredLines</th>\n",
       "      <th>age</th>\n",
       "      <th>NumberOfTime30-59DaysPastDueNotWorse</th>\n",
       "      <th>DebtRatio</th>\n",
       "      <th>MonthlyIncome</th>\n",
       "      <th>NumberOfOpenCreditLinesAndLoans</th>\n",
       "      <th>NumberOfTimes90DaysLate</th>\n",
       "      <th>NumberRealEstateLoansOrLines</th>\n",
       "      <th>NumberOfTime60-89DaysPastDueNotWorse</th>\n",
       "      <th>NumberOfDependents</th>\n",
       "    </tr>\n",
       "  </thead>\n",
       "  <tbody>\n",
       "    <tr>\n",
       "      <th>0</th>\n",
       "      <td>0</td>\n",
       "      <td>0.975614</td>\n",
       "      <td>39</td>\n",
       "      <td>1</td>\n",
       "      <td>0.678552</td>\n",
       "      <td>1850.0</td>\n",
       "      <td>4</td>\n",
       "      <td>0</td>\n",
       "      <td>0</td>\n",
       "      <td>0</td>\n",
       "      <td>3.0</td>\n",
       "    </tr>\n",
       "    <tr>\n",
       "      <th>1</th>\n",
       "      <td>0</td>\n",
       "      <td>0.006634</td>\n",
       "      <td>75</td>\n",
       "      <td>0</td>\n",
       "      <td>0.082087</td>\n",
       "      <td>10500.0</td>\n",
       "      <td>21</td>\n",
       "      <td>0</td>\n",
       "      <td>1</td>\n",
       "      <td>0</td>\n",
       "      <td>0.0</td>\n",
       "    </tr>\n",
       "    <tr>\n",
       "      <th>2</th>\n",
       "      <td>0</td>\n",
       "      <td>0.227432</td>\n",
       "      <td>48</td>\n",
       "      <td>1</td>\n",
       "      <td>0.202145</td>\n",
       "      <td>6059.0</td>\n",
       "      <td>9</td>\n",
       "      <td>0</td>\n",
       "      <td>1</td>\n",
       "      <td>0</td>\n",
       "      <td>3.0</td>\n",
       "    </tr>\n",
       "    <tr>\n",
       "      <th>3</th>\n",
       "      <td>0</td>\n",
       "      <td>0.290217</td>\n",
       "      <td>59</td>\n",
       "      <td>0</td>\n",
       "      <td>0.674392</td>\n",
       "      <td>4400.0</td>\n",
       "      <td>6</td>\n",
       "      <td>0</td>\n",
       "      <td>2</td>\n",
       "      <td>0</td>\n",
       "      <td>0.0</td>\n",
       "    </tr>\n",
       "    <tr>\n",
       "      <th>4</th>\n",
       "      <td>0</td>\n",
       "      <td>0.000000</td>\n",
       "      <td>80</td>\n",
       "      <td>0</td>\n",
       "      <td>0.000000</td>\n",
       "      <td>2596.0</td>\n",
       "      <td>2</td>\n",
       "      <td>0</td>\n",
       "      <td>0</td>\n",
       "      <td>0</td>\n",
       "      <td>1.0</td>\n",
       "    </tr>\n",
       "  </tbody>\n",
       "</table>\n",
       "</div>"
      ],
      "text/plain": [
       "   SeriousDlqin2yrs  RevolvingUtilizationOfUnsecuredLines  age  \\\n",
       "0                 0                              0.975614   39   \n",
       "1                 0                              0.006634   75   \n",
       "2                 0                              0.227432   48   \n",
       "3                 0                              0.290217   59   \n",
       "4                 0                              0.000000   80   \n",
       "\n",
       "   NumberOfTime30-59DaysPastDueNotWorse  DebtRatio  MonthlyIncome  \\\n",
       "0                                     1   0.678552         1850.0   \n",
       "1                                     0   0.082087        10500.0   \n",
       "2                                     1   0.202145         6059.0   \n",
       "3                                     0   0.674392         4400.0   \n",
       "4                                     0   0.000000         2596.0   \n",
       "\n",
       "   NumberOfOpenCreditLinesAndLoans  NumberOfTimes90DaysLate  \\\n",
       "0                                4                        0   \n",
       "1                               21                        0   \n",
       "2                                9                        0   \n",
       "3                                6                        0   \n",
       "4                                2                        0   \n",
       "\n",
       "   NumberRealEstateLoansOrLines  NumberOfTime60-89DaysPastDueNotWorse  \\\n",
       "0                             0                                     0   \n",
       "1                             1                                     0   \n",
       "2                             1                                     0   \n",
       "3                             2                                     0   \n",
       "4                             0                                     0   \n",
       "\n",
       "   NumberOfDependents  \n",
       "0                 3.0  \n",
       "1                 0.0  \n",
       "2                 3.0  \n",
       "3                 0.0  \n",
       "4                 1.0  "
      ]
     },
     "execution_count": 3,
     "metadata": {},
     "output_type": "execute_result"
    }
   ],
   "source": [
    "train_sample.head()"
   ]
  },
  {
   "cell_type": "markdown",
   "metadata": {},
   "source": [
    "SeriousDlqin2yrs - Лицо, которое выходит на просрочку. Флаг выхода на просрочку через 90 дней\n",
    "RevolvingUtilizationOfUnsecuredLines - Общий баланс по кредитным картам и личным кредитным линиям, за исключением недвижимости, и без задолженности по кредитам, таким как автокредиты, деленные на сумму кредитных лимитов\n",
    "age - Возраст заёмщика в годах\n",
    "NumberOfTime30-59DaysPastDueNotWorse - Сколько раз заемщик просрочил выплату не более, чем на 30-59 дней, за последние 2 года.\n",
    "DebtRatio - Ежемесячные платежи по долгам, алименты и прожиточные расходы, делённые на месячный валовый доход\n",
    "MonthlyIncome - Ежемесячный доход\n",
    "NumberOfOpenCreditLinesAndLoans - Количество открытых кредитов (например, автокредит или закладная, кредитные карты и т.д.)\n",
    "NumberOfTimes90DaysLate - Сколько раз заёмщик просрочил выплату на 90 дней и более.\n",
    "NumberRealEstateLoansOrLines - Количество ипотечных кредитов и кредитов на недвижимость\n",
    "NumberOfTime60-89DaysPastDueNotWorse - Сколько раз заёмщик просрочил выплату не более, чем на 60-89 дней, за последние 2 года.\n",
    "NumberOfDependents - Количество иждивенцев в семье, исключая самого заёмщика (супруга, дети и т.д.)"
   ]
  },
  {
   "cell_type": "markdown",
   "metadata": {},
   "source": [
    "### Подготавливаем признаки"
   ]
  },
  {
   "cell_type": "code",
   "execution_count": 4,
   "metadata": {},
   "outputs": [
    {
     "data": {
      "text/html": [
       "<div>\n",
       "<style scoped>\n",
       "    .dataframe tbody tr th:only-of-type {\n",
       "        vertical-align: middle;\n",
       "    }\n",
       "\n",
       "    .dataframe tbody tr th {\n",
       "        vertical-align: top;\n",
       "    }\n",
       "\n",
       "    .dataframe thead th {\n",
       "        text-align: right;\n",
       "    }\n",
       "</style>\n",
       "<table border=\"1\" class=\"dataframe\">\n",
       "  <thead>\n",
       "    <tr style=\"text-align: right;\">\n",
       "      <th></th>\n",
       "      <th>SeriousDlqin2yrs</th>\n",
       "      <th>RevolvingUtilizationOfUnsecuredLines</th>\n",
       "      <th>age</th>\n",
       "      <th>NumberOfTime30-59DaysPastDueNotWorse</th>\n",
       "      <th>DebtRatio</th>\n",
       "      <th>MonthlyIncome</th>\n",
       "      <th>NumberOfOpenCreditLinesAndLoans</th>\n",
       "      <th>NumberOfTimes90DaysLate</th>\n",
       "      <th>NumberRealEstateLoansOrLines</th>\n",
       "      <th>NumberOfTime60-89DaysPastDueNotWorse</th>\n",
       "      <th>NumberOfDependents</th>\n",
       "    </tr>\n",
       "  </thead>\n",
       "  <tbody>\n",
       "    <tr>\n",
       "      <th>SeriousDlqin2yrs</th>\n",
       "      <td>1.000000</td>\n",
       "      <td>-0.003465</td>\n",
       "      <td>-0.107130</td>\n",
       "      <td>0.120440</td>\n",
       "      <td>-0.001070</td>\n",
       "      <td>-0.020474</td>\n",
       "      <td>-0.025130</td>\n",
       "      <td>0.106295</td>\n",
       "      <td>0.000773</td>\n",
       "      <td>0.091719</td>\n",
       "      <td>0.046431</td>\n",
       "    </tr>\n",
       "    <tr>\n",
       "      <th>RevolvingUtilizationOfUnsecuredLines</th>\n",
       "      <td>-0.003465</td>\n",
       "      <td>1.000000</td>\n",
       "      <td>-0.004646</td>\n",
       "      <td>-0.001527</td>\n",
       "      <td>-0.000202</td>\n",
       "      <td>0.008861</td>\n",
       "      <td>-0.012173</td>\n",
       "      <td>-0.001111</td>\n",
       "      <td>0.007651</td>\n",
       "      <td>-0.001104</td>\n",
       "      <td>0.005536</td>\n",
       "    </tr>\n",
       "    <tr>\n",
       "      <th>age</th>\n",
       "      <td>-0.107130</td>\n",
       "      <td>-0.004646</td>\n",
       "      <td>1.000000</td>\n",
       "      <td>-0.054489</td>\n",
       "      <td>0.003186</td>\n",
       "      <td>0.040811</td>\n",
       "      <td>0.188150</td>\n",
       "      <td>-0.052406</td>\n",
       "      <td>0.064399</td>\n",
       "      <td>-0.048832</td>\n",
       "      <td>-0.207707</td>\n",
       "    </tr>\n",
       "    <tr>\n",
       "      <th>NumberOfTime30-59DaysPastDueNotWorse</th>\n",
       "      <td>0.120440</td>\n",
       "      <td>-0.001527</td>\n",
       "      <td>-0.054489</td>\n",
       "      <td>1.000000</td>\n",
       "      <td>-0.001520</td>\n",
       "      <td>-0.010398</td>\n",
       "      <td>-0.047928</td>\n",
       "      <td>0.977477</td>\n",
       "      <td>-0.026400</td>\n",
       "      <td>0.981383</td>\n",
       "      <td>0.001812</td>\n",
       "    </tr>\n",
       "    <tr>\n",
       "      <th>DebtRatio</th>\n",
       "      <td>-0.001070</td>\n",
       "      <td>-0.000202</td>\n",
       "      <td>0.003186</td>\n",
       "      <td>-0.001520</td>\n",
       "      <td>1.000000</td>\n",
       "      <td>-0.026469</td>\n",
       "      <td>0.006250</td>\n",
       "      <td>-0.002682</td>\n",
       "      <td>0.016319</td>\n",
       "      <td>-0.001573</td>\n",
       "      <td>0.002627</td>\n",
       "    </tr>\n",
       "    <tr>\n",
       "      <th>MonthlyIncome</th>\n",
       "      <td>-0.020474</td>\n",
       "      <td>0.008861</td>\n",
       "      <td>0.040811</td>\n",
       "      <td>-0.010398</td>\n",
       "      <td>-0.026469</td>\n",
       "      <td>1.000000</td>\n",
       "      <td>0.093186</td>\n",
       "      <td>-0.013138</td>\n",
       "      <td>0.121412</td>\n",
       "      <td>-0.011333</td>\n",
       "      <td>0.067107</td>\n",
       "    </tr>\n",
       "    <tr>\n",
       "      <th>NumberOfOpenCreditLinesAndLoans</th>\n",
       "      <td>-0.025130</td>\n",
       "      <td>-0.012173</td>\n",
       "      <td>0.188150</td>\n",
       "      <td>-0.047928</td>\n",
       "      <td>0.006250</td>\n",
       "      <td>0.093186</td>\n",
       "      <td>1.000000</td>\n",
       "      <td>-0.074245</td>\n",
       "      <td>0.422222</td>\n",
       "      <td>-0.064080</td>\n",
       "      <td>0.040745</td>\n",
       "    </tr>\n",
       "    <tr>\n",
       "      <th>NumberOfTimes90DaysLate</th>\n",
       "      <td>0.106295</td>\n",
       "      <td>-0.001111</td>\n",
       "      <td>-0.052406</td>\n",
       "      <td>0.977477</td>\n",
       "      <td>-0.002682</td>\n",
       "      <td>-0.013138</td>\n",
       "      <td>-0.074245</td>\n",
       "      <td>1.000000</td>\n",
       "      <td>-0.042890</td>\n",
       "      <td>0.990847</td>\n",
       "      <td>-0.004963</td>\n",
       "    </tr>\n",
       "    <tr>\n",
       "      <th>NumberRealEstateLoansOrLines</th>\n",
       "      <td>0.000773</td>\n",
       "      <td>0.007651</td>\n",
       "      <td>0.064399</td>\n",
       "      <td>-0.026400</td>\n",
       "      <td>0.016319</td>\n",
       "      <td>0.121412</td>\n",
       "      <td>0.422222</td>\n",
       "      <td>-0.042890</td>\n",
       "      <td>1.000000</td>\n",
       "      <td>-0.036403</td>\n",
       "      <td>0.130398</td>\n",
       "    </tr>\n",
       "    <tr>\n",
       "      <th>NumberOfTime60-89DaysPastDueNotWorse</th>\n",
       "      <td>0.091719</td>\n",
       "      <td>-0.001104</td>\n",
       "      <td>-0.048832</td>\n",
       "      <td>0.981383</td>\n",
       "      <td>-0.001573</td>\n",
       "      <td>-0.011333</td>\n",
       "      <td>-0.064080</td>\n",
       "      <td>0.990847</td>\n",
       "      <td>-0.036403</td>\n",
       "      <td>1.000000</td>\n",
       "      <td>-0.006511</td>\n",
       "    </tr>\n",
       "    <tr>\n",
       "      <th>NumberOfDependents</th>\n",
       "      <td>0.046431</td>\n",
       "      <td>0.005536</td>\n",
       "      <td>-0.207707</td>\n",
       "      <td>0.001812</td>\n",
       "      <td>0.002627</td>\n",
       "      <td>0.067107</td>\n",
       "      <td>0.040745</td>\n",
       "      <td>-0.004963</td>\n",
       "      <td>0.130398</td>\n",
       "      <td>-0.006511</td>\n",
       "      <td>1.000000</td>\n",
       "    </tr>\n",
       "  </tbody>\n",
       "</table>\n",
       "</div>"
      ],
      "text/plain": [
       "                                      SeriousDlqin2yrs  \\\n",
       "SeriousDlqin2yrs                              1.000000   \n",
       "RevolvingUtilizationOfUnsecuredLines         -0.003465   \n",
       "age                                          -0.107130   \n",
       "NumberOfTime30-59DaysPastDueNotWorse          0.120440   \n",
       "DebtRatio                                    -0.001070   \n",
       "MonthlyIncome                                -0.020474   \n",
       "NumberOfOpenCreditLinesAndLoans              -0.025130   \n",
       "NumberOfTimes90DaysLate                       0.106295   \n",
       "NumberRealEstateLoansOrLines                  0.000773   \n",
       "NumberOfTime60-89DaysPastDueNotWorse          0.091719   \n",
       "NumberOfDependents                            0.046431   \n",
       "\n",
       "                                      RevolvingUtilizationOfUnsecuredLines  \\\n",
       "SeriousDlqin2yrs                                                 -0.003465   \n",
       "RevolvingUtilizationOfUnsecuredLines                              1.000000   \n",
       "age                                                              -0.004646   \n",
       "NumberOfTime30-59DaysPastDueNotWorse                             -0.001527   \n",
       "DebtRatio                                                        -0.000202   \n",
       "MonthlyIncome                                                     0.008861   \n",
       "NumberOfOpenCreditLinesAndLoans                                  -0.012173   \n",
       "NumberOfTimes90DaysLate                                          -0.001111   \n",
       "NumberRealEstateLoansOrLines                                      0.007651   \n",
       "NumberOfTime60-89DaysPastDueNotWorse                             -0.001104   \n",
       "NumberOfDependents                                                0.005536   \n",
       "\n",
       "                                           age  \\\n",
       "SeriousDlqin2yrs                     -0.107130   \n",
       "RevolvingUtilizationOfUnsecuredLines -0.004646   \n",
       "age                                   1.000000   \n",
       "NumberOfTime30-59DaysPastDueNotWorse -0.054489   \n",
       "DebtRatio                             0.003186   \n",
       "MonthlyIncome                         0.040811   \n",
       "NumberOfOpenCreditLinesAndLoans       0.188150   \n",
       "NumberOfTimes90DaysLate              -0.052406   \n",
       "NumberRealEstateLoansOrLines          0.064399   \n",
       "NumberOfTime60-89DaysPastDueNotWorse -0.048832   \n",
       "NumberOfDependents                   -0.207707   \n",
       "\n",
       "                                      NumberOfTime30-59DaysPastDueNotWorse  \\\n",
       "SeriousDlqin2yrs                                                  0.120440   \n",
       "RevolvingUtilizationOfUnsecuredLines                             -0.001527   \n",
       "age                                                              -0.054489   \n",
       "NumberOfTime30-59DaysPastDueNotWorse                              1.000000   \n",
       "DebtRatio                                                        -0.001520   \n",
       "MonthlyIncome                                                    -0.010398   \n",
       "NumberOfOpenCreditLinesAndLoans                                  -0.047928   \n",
       "NumberOfTimes90DaysLate                                           0.977477   \n",
       "NumberRealEstateLoansOrLines                                     -0.026400   \n",
       "NumberOfTime60-89DaysPastDueNotWorse                              0.981383   \n",
       "NumberOfDependents                                                0.001812   \n",
       "\n",
       "                                      DebtRatio  MonthlyIncome  \\\n",
       "SeriousDlqin2yrs                      -0.001070      -0.020474   \n",
       "RevolvingUtilizationOfUnsecuredLines  -0.000202       0.008861   \n",
       "age                                    0.003186       0.040811   \n",
       "NumberOfTime30-59DaysPastDueNotWorse  -0.001520      -0.010398   \n",
       "DebtRatio                              1.000000      -0.026469   \n",
       "MonthlyIncome                         -0.026469       1.000000   \n",
       "NumberOfOpenCreditLinesAndLoans        0.006250       0.093186   \n",
       "NumberOfTimes90DaysLate               -0.002682      -0.013138   \n",
       "NumberRealEstateLoansOrLines           0.016319       0.121412   \n",
       "NumberOfTime60-89DaysPastDueNotWorse  -0.001573      -0.011333   \n",
       "NumberOfDependents                     0.002627       0.067107   \n",
       "\n",
       "                                      NumberOfOpenCreditLinesAndLoans  \\\n",
       "SeriousDlqin2yrs                                            -0.025130   \n",
       "RevolvingUtilizationOfUnsecuredLines                        -0.012173   \n",
       "age                                                          0.188150   \n",
       "NumberOfTime30-59DaysPastDueNotWorse                        -0.047928   \n",
       "DebtRatio                                                    0.006250   \n",
       "MonthlyIncome                                                0.093186   \n",
       "NumberOfOpenCreditLinesAndLoans                              1.000000   \n",
       "NumberOfTimes90DaysLate                                     -0.074245   \n",
       "NumberRealEstateLoansOrLines                                 0.422222   \n",
       "NumberOfTime60-89DaysPastDueNotWorse                        -0.064080   \n",
       "NumberOfDependents                                           0.040745   \n",
       "\n",
       "                                      NumberOfTimes90DaysLate  \\\n",
       "SeriousDlqin2yrs                                     0.106295   \n",
       "RevolvingUtilizationOfUnsecuredLines                -0.001111   \n",
       "age                                                 -0.052406   \n",
       "NumberOfTime30-59DaysPastDueNotWorse                 0.977477   \n",
       "DebtRatio                                           -0.002682   \n",
       "MonthlyIncome                                       -0.013138   \n",
       "NumberOfOpenCreditLinesAndLoans                     -0.074245   \n",
       "NumberOfTimes90DaysLate                              1.000000   \n",
       "NumberRealEstateLoansOrLines                        -0.042890   \n",
       "NumberOfTime60-89DaysPastDueNotWorse                 0.990847   \n",
       "NumberOfDependents                                  -0.004963   \n",
       "\n",
       "                                      NumberRealEstateLoansOrLines  \\\n",
       "SeriousDlqin2yrs                                          0.000773   \n",
       "RevolvingUtilizationOfUnsecuredLines                      0.007651   \n",
       "age                                                       0.064399   \n",
       "NumberOfTime30-59DaysPastDueNotWorse                     -0.026400   \n",
       "DebtRatio                                                 0.016319   \n",
       "MonthlyIncome                                             0.121412   \n",
       "NumberOfOpenCreditLinesAndLoans                           0.422222   \n",
       "NumberOfTimes90DaysLate                                  -0.042890   \n",
       "NumberRealEstateLoansOrLines                              1.000000   \n",
       "NumberOfTime60-89DaysPastDueNotWorse                     -0.036403   \n",
       "NumberOfDependents                                        0.130398   \n",
       "\n",
       "                                      NumberOfTime60-89DaysPastDueNotWorse  \\\n",
       "SeriousDlqin2yrs                                                  0.091719   \n",
       "RevolvingUtilizationOfUnsecuredLines                             -0.001104   \n",
       "age                                                              -0.048832   \n",
       "NumberOfTime30-59DaysPastDueNotWorse                              0.981383   \n",
       "DebtRatio                                                        -0.001573   \n",
       "MonthlyIncome                                                    -0.011333   \n",
       "NumberOfOpenCreditLinesAndLoans                                  -0.064080   \n",
       "NumberOfTimes90DaysLate                                           0.990847   \n",
       "NumberRealEstateLoansOrLines                                     -0.036403   \n",
       "NumberOfTime60-89DaysPastDueNotWorse                              1.000000   \n",
       "NumberOfDependents                                               -0.006511   \n",
       "\n",
       "                                      NumberOfDependents  \n",
       "SeriousDlqin2yrs                                0.046431  \n",
       "RevolvingUtilizationOfUnsecuredLines            0.005536  \n",
       "age                                            -0.207707  \n",
       "NumberOfTime30-59DaysPastDueNotWorse            0.001812  \n",
       "DebtRatio                                       0.002627  \n",
       "MonthlyIncome                                   0.067107  \n",
       "NumberOfOpenCreditLinesAndLoans                 0.040745  \n",
       "NumberOfTimes90DaysLate                        -0.004963  \n",
       "NumberRealEstateLoansOrLines                    0.130398  \n",
       "NumberOfTime60-89DaysPastDueNotWorse           -0.006511  \n",
       "NumberOfDependents                              1.000000  "
      ]
     },
     "execution_count": 4,
     "metadata": {},
     "output_type": "execute_result"
    }
   ],
   "source": [
    "train_sample.corr()"
   ]
  },
  {
   "cell_type": "code",
   "execution_count": null,
   "metadata": {},
   "outputs": [],
   "source": []
  },
  {
   "cell_type": "code",
   "execution_count": 26,
   "metadata": {},
   "outputs": [],
   "source": [
    "#y = train_sample['SeriousDlqin2yrs'].values"
   ]
  },
  {
   "cell_type": "code",
   "execution_count": 27,
   "metadata": {},
   "outputs": [],
   "source": [
    "#X = train_sample[['RevolvingUtilizationOfUnsecuredLines', \n",
    "                  'age', \n",
    "                  'NumberOfTime30-59DaysPastDueNotWorse',\n",
    "                  'DebtRatio',\n",
    "                  'MonthlyIncome',\n",
    "                  'NumberOfOpenCreditLinesAndLoans',\n",
    "                  'NumberOfTimes90DaysLate',\n",
    "                  'NumberRealEstateLoansOrLines',\n",
    "                  'NumberOfTime60-89DaysPastDueNotWorse',\n",
    "                  'NumberOfDependents']].values"
   ]
  },
  {
   "cell_type": "code",
   "execution_count": 5,
   "metadata": {},
   "outputs": [
    {
     "name": "stdout",
     "output_type": "stream",
     "text": [
      "Index(['RevolvingUtilizationOfUnsecuredLines', 'age',\n",
      "       'NumberOfTime30-59DaysPastDueNotWorse', 'DebtRatio', 'MonthlyIncome',\n",
      "       'NumberOfOpenCreditLinesAndLoans', 'NumberOfTimes90DaysLate',\n",
      "       'NumberRealEstateLoansOrLines', 'NumberOfTime60-89DaysPastDueNotWorse',\n",
      "       'NumberOfDependents'],\n",
      "      dtype='object')\n"
     ]
    }
   ],
   "source": [
    "X = train_sample.drop(('SeriousDlqin2yrs'), axis=1)  # Выбрасываем столбец 'class'.      \n",
    "y = train_sample['SeriousDlqin2yrs']\n",
    "feature_names = X.columns\n",
    "print(feature_names)"
   ]
  },
  {
   "cell_type": "markdown",
   "metadata": {},
   "source": [
    "### Выполняем преобразование признаков"
   ]
  },
  {
   "cell_type": "code",
   "execution_count": 6,
   "metadata": {},
   "outputs": [],
   "source": [
    "#from sklearn.preprocessing import MinMaxScaler\n",
    "from sklearn.preprocessing import StandardScaler"
   ]
  },
  {
   "cell_type": "code",
   "execution_count": 7,
   "metadata": {},
   "outputs": [],
   "source": [
    "#min_max_scaler = MinMaxScaler()\n",
    "scaler = StandardScaler()"
   ]
  },
  {
   "cell_type": "code",
   "execution_count": 8,
   "metadata": {},
   "outputs": [],
   "source": [
    "#X = min_max_scaler.fit_transform(X)\n",
    "scaledX = scaler.fit_transform(X)"
   ]
  },
  {
   "cell_type": "code",
   "execution_count": null,
   "metadata": {},
   "outputs": [],
   "source": []
  },
  {
   "cell_type": "markdown",
   "metadata": {},
   "source": [
    "### Выполняем кросс-валидацию"
   ]
  },
  {
   "cell_type": "code",
   "execution_count": 9,
   "metadata": {},
   "outputs": [
    {
     "name": "stderr",
     "output_type": "stream",
     "text": [
      "C:\\Users\\yaroslav\\Anaconda3\\lib\\site-packages\\sklearn\\cross_validation.py:41: DeprecationWarning: This module was deprecated in version 0.18 in favor of the model_selection module into which all the refactored classes and functions are moved. Also note that the interface of the new CV iterators are different from that of this module. This module will be removed in 0.20.\n",
      "  \"This module will be removed in 0.20.\", DeprecationWarning)\n"
     ]
    }
   ],
   "source": [
    "from sklearn.cross_validation import KFold\n",
    "\n",
    "records_count = y.count() #  кросс-валидация по 5 блокам с перемешиванием\n",
    "kf = KFold(n=records_count, n_folds=5, shuffle=True)"
   ]
  },
  {
   "cell_type": "markdown",
   "metadata": {},
   "source": [
    "### Блок с основными функциями и алгоритмами"
   ]
  },
  {
   "cell_type": "code",
   "execution_count": 10,
   "metadata": {},
   "outputs": [],
   "source": [
    "import math\n",
    "from sklearn.metrics import roc_auc_score\n",
    "from sklearn.cross_validation import cross_val_score\n",
    "from sklearn import ensemble\n",
    "from sklearn.tree import DecisionTreeClassifier\n",
    "from sklearn.linear_model import LogisticRegression\n",
    "import xgboost as xgb\n",
    "\n",
    "\n",
    "\n",
    "def calc(estimator, trainX, trainY):\n",
    "    predicted_trainY = estimator.predict_proba(trainX)[:, 1]\n",
    "    #print(roc_auc_score(y, predicted_trainY))\n",
    "    return roc_auc_score(trainY, predicted_trainY)\n",
    "\n",
    "\n",
    "\n",
    "#Оценка путем перекрестной проверки для разных значений регуляризации\n",
    "def Log_Regr_value(C_value):\n",
    "    clf_log = LogisticRegression(penalty='l2', C=C_value)\n",
    "    return cross_val_score(clf_log, scaledX, y, cv=kf, scoring=calc).mean()\n",
    "#cv-генератор перекрестной проверки, оценкой является mean() ранее просчитанных выборок testX\n",
    "\n",
    "\n",
    "\n",
    "def check_qual_log_diff_C():\n",
    "    best_C = 0\n",
    "    best_qual = 0    \n",
    "    for i in range(-4, 2):\n",
    "        C = math.pow(10, i)\n",
    "        qual = Log_Regr_value(C)\n",
    "        print('C=', C, ', quality=', qual)\n",
    "        if qual > best_qual:\n",
    "           best_qual = qual\n",
    "           best_C = C\n",
    "    return(best_C, best_qual)  "
   ]
  },
  {
   "cell_type": "markdown",
   "metadata": {},
   "source": [
    "### Находим наилучший коэф регуляризации для лог регрессии"
   ]
  },
  {
   "cell_type": "code",
   "execution_count": 11,
   "metadata": {},
   "outputs": [
    {
     "name": "stdout",
     "output_type": "stream",
     "text": [
      "C= 0.0001 , quality= 0.6822971241499176\n",
      "C= 0.001 , quality= 0.6768042156228326\n",
      "C= 0.01 , quality= 0.6949743169117552\n",
      "C= 0.1 , quality= 0.6971111395015296\n",
      "C= 1.0 , quality= 0.6966200961262929\n",
      "C= 10.0 , quality= 0.6965618122380719\n",
      "Лучшее качество = 0.6971111395015296 при С= 0.1\n"
     ]
    }
   ],
   "source": [
    "the_best_log = check_qual_log_diff_C()\n",
    "print('Лучшее качество =', the_best_log[1], 'при С=',  the_best_log[0])\n",
    "new_C = the_best_log[0]"
   ]
  },
  {
   "cell_type": "markdown",
   "metadata": {},
   "source": [
    "### Настраиваем алгоритмы"
   ]
  },
  {
   "cell_type": "code",
   "execution_count": 21,
   "metadata": {},
   "outputs": [],
   "source": [
    "clf_log = LogisticRegression(penalty='l2', C=new_C)\n",
    "clf_tree = DecisionTreeClassifier(max_depth=10)\n",
    "clf_rf = ensemble.RandomForestClassifier(n_estimators=100, random_state=11)\n",
    "clf_boost = xgb.XGBClassifier(learning_rate=0.1, max_depth=3, n_estimators=5, nthread=4)"
   ]
  },
  {
   "cell_type": "markdown",
   "metadata": {},
   "source": [
    "### Разделяем выборку на train и test, обучаем алгоритмы на train"
   ]
  },
  {
   "cell_type": "code",
   "execution_count": 13,
   "metadata": {},
   "outputs": [],
   "source": [
    "#from sklearn.model_selection import train_test_split"
   ]
  },
  {
   "cell_type": "code",
   "execution_count": 22,
   "metadata": {},
   "outputs": [
    {
     "data": {
      "text/plain": [
       "XGBClassifier(base_score=0.5, booster='gbtree', colsample_bylevel=1,\n",
       "       colsample_bytree=1, gamma=0, learning_rate=0.1, max_delta_step=0,\n",
       "       max_depth=3, min_child_weight=1, missing=None, n_estimators=5,\n",
       "       n_jobs=1, nthread=4, objective='binary:logistic', random_state=0,\n",
       "       reg_alpha=0, reg_lambda=1, scale_pos_weight=1, seed=None,\n",
       "       silent=True, subsample=1)"
      ]
     },
     "execution_count": 22,
     "metadata": {},
     "output_type": "execute_result"
    }
   ],
   "source": [
    "from sklearn.cross_validation import train_test_split\n",
    "\n",
    "x_train, x_test, y_train, y_test = train_test_split(scaledX, y, test_size = 0.3, random_state = 42)\n",
    "\n",
    "clf_log.fit(x_train, y_train)\n",
    "clf_rf.fit(x_train, y_train)\n",
    "clf_tree.fit(x_train, y_train)\n",
    "clf_boost.fit(x_train, y_train)\n",
    "\n"
   ]
  },
  {
   "cell_type": "markdown",
   "metadata": {},
   "source": [
    "### Выбираем модель"
   ]
  },
  {
   "cell_type": "markdown",
   "metadata": {},
   "source": [
    "### Оцениваем качество предсказания на test'e"
   ]
  },
  {
   "cell_type": "code",
   "execution_count": 23,
   "metadata": {},
   "outputs": [],
   "source": [
    "y_score_log = clf_log.predict_proba(x_test)[:, 1]\n",
    "y_score_rf = clf_rf.predict_proba(x_test)[:,1]\n",
    "y_score_tree = clf_tree.predict_proba(x_test)[:, 1]\n",
    "y_score_boost = clf_boost.predict_proba(x_test)[:, 1]"
   ]
  },
  {
   "cell_type": "code",
   "execution_count": 24,
   "metadata": {},
   "outputs": [],
   "source": [
    "from sklearn.metrics import roc_auc_score, roc_curve"
   ]
  },
  {
   "cell_type": "code",
   "execution_count": 25,
   "metadata": {},
   "outputs": [],
   "source": [
    "auc_log = roc_auc_score(y_score=y_score_log, y_true=y_test)\n",
    "auc_rf = roc_auc_score(y_score=y_score_rf, y_true=y_test)\n",
    "auc_tree = roc_auc_score(y_score=y_score_tree, y_true=y_test)\n",
    "auc_boost = roc_auc_score(y_score=y_score_boost, y_true=y_test)"
   ]
  },
  {
   "cell_type": "code",
   "execution_count": 26,
   "metadata": {},
   "outputs": [
    {
     "name": "stdout",
     "output_type": "stream",
     "text": [
      "0.711303562493719\n",
      "0.9226079890379899\n",
      "0.8233561352792486\n",
      "0.8274601855000696\n"
     ]
    }
   ],
   "source": [
    "print(auc_log)\n",
    "print(auc_rf)\n",
    "print(auc_tree)\n",
    "print(auc_boost)"
   ]
  },
  {
   "cell_type": "markdown",
   "metadata": {},
   "source": [
    "### Визуализируем ROC"
   ]
  },
  {
   "cell_type": "code",
   "execution_count": 27,
   "metadata": {},
   "outputs": [],
   "source": [
    "import matplotlib.pyplot as plt\n",
    "import sklearn.metrics as mtr\n",
    "\n",
    "fpr, tpr, thresholds = mtr.roc_curve(y_test,y_score_log)\n",
    "fpr_2, tpr_2, thresholds_2 = mtr.roc_curve(y_test,y_score_tree)"
   ]
  },
  {
   "cell_type": "code",
   "execution_count": 28,
   "metadata": {},
   "outputs": [
    {
     "name": "stdout",
     "output_type": "stream",
     "text": [
      "AUC_log: 0.711\n",
      "AUC_tree: 0.823\n"
     ]
    },
    {
     "data": {
      "image/png": "[encoded data removed]",
      "text/plain": [
       "<Figure size 432x288 with 1 Axes>"
      ]
     },
     "metadata": {},
     "output_type": "display_data"
    }
   ],
   "source": [
    "print('AUC_log: %.3f' % auc_log)\n",
    "print('AUC_tree: %.3f' % auc_tree)\n",
    "\n",
    "\n",
    "# plot no skill\n",
    "plt.plot([0, 1], [0, 1], linestyle='--')\n",
    "\n",
    "# plot the roc curve for the model\n",
    "plt.plot(fpr, tpr)\n",
    "plt.plot(fpr_2, tpr_2)\n",
    "\n",
    "plt.xlim([0,1])\n",
    "plt.ylim([0,1])\n",
    "plt.xlabel(\"TPR\")\n",
    "plt.ylabel(\"FPR\")\n",
    "plt.title('ROC-AUC')\n",
    "# show the plot\n",
    "plt.show()\n"
   ]
  },
  {
   "cell_type": "code",
   "execution_count": null,
   "metadata": {},
   "outputs": [],
   "source": []
  },
  {
   "cell_type": "code",
   "execution_count": null,
   "metadata": {},
   "outputs": [],
   "source": []
  }
 ],
 "metadata": {
  "kernelspec": {
   "display_name": "Python 3",
   "language": "python",
   "name": "python3"
  },
  "language_info": {
   "codemirror_mode": {
    "name": "ipython",
    "version": 3
   },
   "file_extension": ".py",
   "mimetype": "text/x-python",
   "name": "python",
   "nbconvert_exporter": "python",
   "pygments_lexer": "ipython3",
   "version": "3.6.5"
  },
  "toc": {
   "base_numbering": 1,
   "nav_menu": {
    "height": "12px",
    "width": "252px"
   },
   "number_sections": true,
   "sideBar": true,
   "skip_h1_title": false,
   "title_cell": "Table of Contents",
   "title_sidebar": "Contents",
   "toc_cell": true,
   "toc_position": {},
   "toc_section_display": "block",
   "toc_window_display": false
  }
 },
 "nbformat": 4,
 "nbformat_minor": 2
}
